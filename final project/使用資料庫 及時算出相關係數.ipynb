{
 "cells": [
  {
   "cell_type": "code",
   "execution_count": 1,
   "metadata": {},
   "outputs": [],
   "source": [
    "import sqlite3\n",
    "import pandas as pd\n",
    "from scipy.stats.stats import pearsonr\n",
    "from datetime import datetime\n",
    "import time\n",
    "import numpy as np"
   ]
  },
  {
   "cell_type": "code",
   "execution_count": 17,
   "metadata": {},
   "outputs": [],
   "source": [
    "df_rf  = pd.read_csv('rf.csv')\n",
    "time_list = df_rf['y/m'].tolist()\n",
    "rf_list = [float(x)/5200 for x in df_rf['rf'].tolist()]\n",
    "\n",
    "time_to_rf = dict()\n",
    "for i in range(len(time_list)):\n",
    "    year, month = time_list[i].split('/')\n",
    "    year = int(year) + 1911\n",
    "    month = int(month)\n",
    "    string = str(year) +'-%02d'%month #%Y-%m\n",
    "    time_to_rf[string] = rf_list[i]"
   ]
  },
  {
   "cell_type": "code",
   "execution_count": 12,
   "metadata": {},
   "outputs": [],
   "source": [
    "db = sqlite3.connect('fund.sqlite')\n",
    "cur = db.cursor()"
   ]
  },
  {
   "cell_type": "code",
   "execution_count": 41,
   "metadata": {},
   "outputs": [
    {
     "data": {
      "text/plain": [
       "<sqlite3.Cursor at 0x1bea911e7a0>"
      ]
     },
     "execution_count": 41,
     "metadata": {},
     "output_type": "execute_result"
    }
   ],
   "source": [
    "cur.execute('PRAGMA  table_info([week])')"
   ]
  },
  {
   "cell_type": "code",
   "execution_count": 42,
   "metadata": {},
   "outputs": [],
   "source": [
    "rf_array = []\n",
    "r = cur.fetchall()\n",
    "for i in range(1, len(r)):\n",
    "    date = r[i][1][:-3]\n",
    "    rf_array.append( time_to_rf[date]  )\n",
    "rf_array = np.array(rf_array)"
   ]
  },
  {
   "cell_type": "code",
   "execution_count": 43,
   "metadata": {},
   "outputs": [
    {
     "data": {
      "text/plain": [
       "array([0.00019904, 0.00019904, 0.00019904, 0.00019904, 0.00019904,\n",
       "       0.00019904, 0.00019904, 0.00019904, 0.00019904, 0.00019904,\n",
       "       0.00019904, 0.00019904, 0.00019904, 0.00019904, 0.00019904,\n",
       "       0.00019904, 0.00019904, 0.00019904, 0.00019904, 0.00019904,\n",
       "       0.00019904, 0.00019904, 0.00019904, 0.00019904, 0.00019904,\n",
       "       0.00019904, 0.00019904, 0.00019904, 0.00019904, 0.00019904,\n",
       "       0.00019904, 0.00019904, 0.00019904, 0.00019904, 0.00019904,\n",
       "       0.00019904, 0.00019904, 0.00019904, 0.00019904, 0.00019904,\n",
       "       0.00019904, 0.00019904, 0.00019904, 0.00019904, 0.00019904,\n",
       "       0.00019904, 0.00019904, 0.00019904, 0.00019904, 0.00019904,\n",
       "       0.00019904, 0.00019904, 0.00019904, 0.00019904, 0.00019904,\n",
       "       0.00019904, 0.00019904, 0.00019904, 0.00019904, 0.00019904,\n",
       "       0.00019904, 0.00019904, 0.00019904, 0.00019904, 0.00019904,\n",
       "       0.00019904, 0.00019904, 0.00019904, 0.00019904, 0.00019904,\n",
       "       0.00019904, 0.00019904, 0.00019904, 0.00019904, 0.00019904,\n",
       "       0.00019904, 0.00019904, 0.00019904, 0.00019904, 0.00019904,\n",
       "       0.00019904, 0.00019904, 0.00019904, 0.00019904, 0.00019904,\n",
       "       0.00019904, 0.00019904, 0.00019904, 0.00019904, 0.00019904,\n",
       "       0.00019904, 0.00019904, 0.00019904, 0.00019904, 0.00019904,\n",
       "       0.00019904, 0.00019904, 0.00019904, 0.00019904, 0.00019904,\n",
       "       0.00019904, 0.00019904, 0.00019904, 0.00019904])"
      ]
     },
     "execution_count": 43,
     "metadata": {},
     "output_type": "execute_result"
    }
   ],
   "source": [
    "rf_array"
   ]
  },
  {
   "cell_type": "code",
   "execution_count": 44,
   "metadata": {},
   "outputs": [],
   "source": [
    "cur.execute('select * from week WHERE \"index\" = \"F0000112ZA:FO\"')\n",
    "r = cur.fetchall()\n",
    "\n",
    "x = np.array(r[0][1:], dtype= 'float64')\n",
    "x_new = x[~np.isnan(x)]\n"
   ]
  },
  {
   "cell_type": "code",
   "execution_count": 47,
   "metadata": {},
   "outputs": [],
   "source": [
    "rf_array_new = rf_array[~np.isnan(x)]"
   ]
  },
  {
   "cell_type": "code",
   "execution_count": 49,
   "metadata": {},
   "outputs": [
    {
     "data": {
      "text/plain": [
       "array([-0.00019904, -0.00119904, -0.00019904, -0.00019904, -0.00220104,\n",
       "        0.00180698,  0.00380497,  0.00179498, -0.00119406,  0.00079698,\n",
       "       -0.00019904, -0.00417914,  0.00479597,  0.00576518,  0.00671796,\n",
       "        0.00370721, -0.00214456,  0.0036996 ,  0.00368446,  0.00753791,\n",
       "        0.00076065, -0.00211658, -0.0107658 ,  0.00174271,  0.00464592,\n",
       "       -0.00116336, -0.00019904])"
      ]
     },
     "execution_count": 49,
     "metadata": {},
     "output_type": "execute_result"
    }
   ],
   "source": [
    "x_new - rf_array_new"
   ]
  },
  {
   "cell_type": "markdown",
   "metadata": {},
   "source": [
    "# output => 輸入基金名 返回相關係數跟報酬率 (已經減去rf)"
   ]
  },
  {
   "cell_type": "code",
   "execution_count": 53,
   "metadata": {},
   "outputs": [
    {
     "name": "stdout",
     "output_type": "stream",
     "text": [
      "資料載完花了 0.01562047004699707\n",
      "Finished 0.5701982975006104\n",
      "F0000112ZA:FO 1 0.0009371362732923888\n",
      "mean, rank, a_id, cor\n",
      "0.005541986956028405 A F0GBR06IGW:FO -0.35006388135963834\n",
      "0.0022396425055559244 A F0GBR06TV0:FO -0.34180529904724033\n",
      "0.0006674413133922558 A FOGBR05KMB:FO -0.34626952175978876\n",
      "-0.0005760227467177637 A+ F0HKG05WX5:FO -0.5254068110564654\n",
      "-0.0005999310473159895 A+ F0HKG05WVT:FO -0.4117816993623376\n",
      "-0.0006105044648142572 A+ F0HKG05X0R:FO -0.5254491835021496\n"
     ]
    }
   ],
   "source": [
    "t1 = time.time()\n",
    "\n",
    "cor_list = []\n",
    "id_list = []\n",
    "mean_list = []\n",
    "db = sqlite3.connect('fund.sqlite')\n",
    "cur = db.cursor()\n",
    "\n",
    "\n",
    "# get rf\n",
    "df_rf  = pd.read_csv('rf.csv')\n",
    "time_list = df_rf['y/m'].tolist()\n",
    "rf_list = [float(x)/5200 for x in df_rf['rf'].tolist()]\n",
    "\n",
    "time_to_rf = dict()\n",
    "for i in range(len(time_list)):\n",
    "    year, month = time_list[i].split('/')\n",
    "    year = int(year) + 1911\n",
    "    month = int(month)\n",
    "    string = str(year) +'-%02d'%month #%Y-%m\n",
    "    time_to_rf[string] = rf_list[i]\n",
    "    \n",
    "cur.execute('PRAGMA  table_info([week])')\n",
    "rf_array = []\n",
    "r = cur.fetchall()\n",
    "for i in range(1, len(r)):\n",
    "    date = r[i][1][:-3]\n",
    "    rf_array.append( time_to_rf[date]  )\n",
    "rf_array = np.array(rf_array)\n",
    "\n",
    "\n",
    "\n",
    "\n",
    "# 搜尋基金\n",
    "cur.execute('select * from week WHERE \"index\" = \"F0000112ZA:FO\"')\n",
    "r = cur.fetchall()\n",
    "\n",
    "x = np.array(r[0][1:], dtype= 'float64')\n",
    "\n",
    "rf_array = rf_array[~np.isnan(x)]\n",
    "x_new = x[~np.isnan(x)] - rf_array\n",
    "\n",
    "\n",
    "\n",
    "\n",
    "cur.execute('select * from week WHERE \"index\" != \"F0000112ZA:FO\"')\n",
    "print('資料載完花了', (time.time()-t1))\n",
    "\n",
    "\n",
    "r = cur.fetchall()\n",
    "for i in range(len(r)):\n",
    "    id_list.append(r[i][0])\n",
    "    y = np.array(r[i][1:], dtype= 'float64')[~np.isnan(x)] - rf_array\n",
    "    mean_list.append(y.mean()*4)\n",
    "    cor,_ = pearsonr(x_new, y)\n",
    "    cor_list.append(cor )\n",
    "    \n",
    "a_array = np.array(cor_list)\n",
    "indices = a_array.argsort()[:6]\n",
    "\n",
    "print('Finished', (time.time()-t1))\n",
    "print('F0000112ZA:FO', 1, x_new.mean())\n",
    "\n",
    "output = []\n",
    "\n",
    "\n",
    "for i in indices[0:3]: \n",
    "    output.append( (mean_list[i], 'A+', id_list[i], a_array[i])  )\n",
    "for i in indices[3:]: \n",
    "    output.append( (mean_list[i], 'A', id_list[i], a_array[i])  )\n",
    "    \n",
    "output.sort(reverse = True)\n",
    "print('mean, rank, a_id, cor')\n",
    "for mean, rank, a_id, cor in output:\n",
    "    print(mean, rank, a_id, cor)"
   ]
  },
  {
   "cell_type": "code",
   "execution_count": null,
   "metadata": {},
   "outputs": [],
   "source": []
  }
 ],
 "metadata": {
  "kernelspec": {
   "display_name": "Python 3",
   "language": "python",
   "name": "python3"
  },
  "language_info": {
   "codemirror_mode": {
    "name": "ipython",
    "version": 3
   },
   "file_extension": ".py",
   "mimetype": "text/x-python",
   "name": "python",
   "nbconvert_exporter": "python",
   "pygments_lexer": "ipython3",
   "version": "3.7.0"
  }
 },
 "nbformat": 4,
 "nbformat_minor": 2
}
