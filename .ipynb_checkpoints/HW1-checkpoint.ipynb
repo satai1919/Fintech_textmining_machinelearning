{
 "cells": [
  {
   "cell_type": "markdown",
   "metadata": {},
   "source": [
    "# 先Filter 在2015/12 ~ 2018/12 存續的ETF"
   ]
  },
  {
   "cell_type": "markdown",
   "metadata": {},
   "source": [
    "## 先開啟檔案位置，並設定初始時間作為篩選門檻"
   ]
  },
  {
   "cell_type": "code",
   "execution_count": 1,
   "metadata": {},
   "outputs": [],
   "source": [
    "import csv\n",
    "from datetime import datetime\n",
    "\n",
    "start_date = datetime.strptime( \"2016/01/01\" , \"%Y/%m/%d\")\n",
    "\n",
    "out_file =  open( 'ETF List Filtered.csv', 'w',newline='')\n",
    "in_file1 = open( '..\\data\\Currency ETF List (36).csv', 'r') \n",
    "in_file2 = open( '..\\data\\Preferred Stock ETF List (12).csv', 'r')\n",
    "        "
   ]
  },
  {
   "cell_type": "markdown",
   "metadata": {},
   "source": [
    "## 使用CSV庫\n",
    "## 用DictReader來讀取特定的行數，用法類似字典\n",
    "## 用writer來寫出檔案"
   ]
  },
  {
   "cell_type": "code",
   "execution_count": 2,
   "metadata": {},
   "outputs": [],
   "source": [
    "csv_reader = csv.DictReader(in_file1)\n",
    "csv_writer = csv.writer(out_file)\n",
    "csv_writer.writerow(['Symbol', 'ETF Name', 'Inception','Type']) #先寫出行名稱\n",
    "\n",
    "for a_row in csv_reader: #對每一列，進行Dictionary-like的讀取\n",
    "    symbol = a_row['Symbol']\n",
    "    etf_name = a_row['ETF Name']\n",
    "    inception = datetime.strptime( a_row['Inception'], \"%Y/%m/%d\") \n",
    "#寫入\n",
    "    if inception  <= start_date:\n",
    "        csv_writer.writerow([symbol, etf_name, inception.date(), 'Currency']) #寫出四行，分別是代號、名稱、創立時間、跟基金類型"
   ]
  },
  {
   "cell_type": "code",
   "execution_count": 3,
   "metadata": {},
   "outputs": [],
   "source": [
    "csv_reader2 = csv.DictReader(in_file2)\n",
    "for a_row in csv_reader2:\n",
    "    symbol = a_row['Symbol']\n",
    "    etf_name = a_row['ETF Name']\n",
    "    inception = datetime.strptime( a_row['Inception'], \"%Y/%m/%d\")\n",
    "#寫入\n",
    "    if inception  <= start_date:\n",
    "        csv_writer.writerow([symbol, etf_name, inception.date(), 'Prefered Stock'])"
   ]
  },
  {
   "cell_type": "markdown",
   "metadata": {},
   "source": [
    "## 記得關閉檔案"
   ]
  },
  {
   "cell_type": "code",
   "execution_count": 4,
   "metadata": {},
   "outputs": [],
   "source": [
    "out_file.close()\n",
    "in_file1.close()\n",
    "in_file2.close()"
   ]
  },
  {
   "cell_type": "markdown",
   "metadata": {},
   "source": [
    "# 爬取ETF淨值，爬取網站為ycharts"
   ]
  },
  {
   "cell_type": "markdown",
   "metadata": {},
   "source": [
    "## 由於該網頁需要帳號密碼，所以需要一組帳密來登入\n",
    "## 之後可以調用login函數來取得一個對話控制，此允許我們爬取基金淨值"
   ]
  },
  {
   "cell_type": "code",
   "execution_count": 5,
   "metadata": {},
   "outputs": [],
   "source": [
    "import requests\n",
    "from lxml import html\n",
    "import json\n",
    "import urllib3\n",
    "import time\n",
    "def login():\n",
    "    urllib3.disable_warnings(urllib3.exceptions.InsecureRequestWarning)\n",
    "    \n",
    "    #為了示範而打的，真正的程式是開放輸入email和password的\n",
    "    email = \"satai1919@gmail.com\"\n",
    "    pas = \"FintechMl\"\n",
    "    LOGIN_URL = \"https://ycharts.com/login\"\n",
    "    \n",
    "    session = requests.session()\n",
    "    \n",
    "    \n",
    "    #爬登入頁面\n",
    "    '''\n",
    "    觀察在登入頁面login時送出及接收的request（chrome右鍵>檢查>network）。找到登入所需資訊（payload）跟header。\n",
    "    發現有csrfmiddlewaretoken，其每次登入產生，可能阻止用程式登入故把csrfmiddlewaretoken抓下來放在header和payload中，防止登入失敗。\n",
    "    '''\n",
    "    result = session.get(LOGIN_URL)\n",
    "    tree = html.fromstring(result.text)\n",
    "    authenticity_token = list(set(tree.xpath('//input[@name=\"csrfmiddlewaretoken\"]/@value')))[0]\n",
    "    \n",
    "    payload = {\n",
    "        'username': email,\n",
    "        'password': pas,\n",
    "        'csrfmiddlewaretoken': authenticity_token\n",
    "    }\n",
    "    \n",
    "    headers = {\n",
    "        'Accept': 'text/html,application/xhtml+xml,application/xml;q=0.9,image/webp,image/apng,*/*;q=0.8',\n",
    "        'Accept-Encoding': 'gzip, deflate, br',\n",
    "        'Accept-Language': 'zh-TW,zh;q=0.9,en-US;q=0.8,en;q=0.7,ja;q=0.6,zh-CN;q=0.5,fr;q=0.4',\n",
    "        'Cache-Control': 'max-age=0',\n",
    "        'Connection': 'keep-alive',\n",
    "        'Content-Length': '142',\n",
    "        'Content-Type': 'application/x-www-form-urlencoded',\n",
    "        'Cookie': '__utmc=69688216; __utmz=69688216.1552357223.1.1.utmcsr=google|utmccn=(organic)|utmcmd=organic|utmctr=(not%20provided); hblid=JQ0XqOZqwIXsXwT51y8Lx0HAoArzb6aB; _okdetect=%7B%22token%22%3A%2215523572229710%22%2C%22proto%22%3A%22https%3A%22%2C%22host%22%3A%22ycharts.com%22%7D; olfsk=olfsk12322538568271435; _ok=1228-592-10-8601; hubspotutk=7cf8506f03419977c4be0b998e16b46e; __hssrc=1; _cb_ls=1; _cb=B56Z-XDKRC_SC1U7V5; 33e807c05af9078f6b2ed01ced5fc28d5c8f52f4=1; wcsid=dhJeybtiypg1EtEV1y8Lx0Harz6ZJ0AA; _okbk=cd4%3Dtrue%2Cvi5%3D0%2Cvi4%3D1552376476295%2Cvi3%3Dactive%2Cvi2%3Dfalse%2Cvi1%3Dfalse%2Ccd8%3Dchat%2Ccd6%3D0%2Ccd5%3Daway%2Ccd3%3Dfalse%2Ccd2%3D0%2Ccd1%3D0%2C; _okac=f0b90d7b5b31a4a193bbea257a02ab8a; _okla=1; __utma=69688216.990749136.1552357223.1552376476.1552379039.4; __hstc=165832289.7cf8506f03419977c4be0b998e16b46e.1552357225006.1552376478295.1552379041795.4; _cb_svref=null; csrftoken='+authenticity_token+'; ycsessionid=uualzce6xlp27stjyfdee97evws5ollz; __utmt=1; page_view_ctr=51; __utmb=69688216.46.10.1552379039; mp_bd6455515e9730c7dc2f008755a4ddfe_mixpanel=%7B%22distinct_id%22%3A%20%221696fb366da666-05b45b73c1e575-36657105-fa000-1696fb366db7e2%22%2C%22%24device_id%22%3A%20%221696fb366da666-05b45b73c1e575-36657105-fa000-1696fb366db7e2%22%2C%22%24search_engine%22%3A%20%22google%22%2C%22%24initial_referrer%22%3A%20%22https%3A%2F%2Fwww.google.com%2F%22%2C%22%24initial_referring_domain%22%3A%20%22www.google.com%22%2C%22__mps%22%3A%20%7B%7D%2C%22__mpso%22%3A%20%7B%7D%2C%22__mpus%22%3A%20%7B%7D%2C%22__mpa%22%3A%20%7B%7D%2C%22__mpu%22%3A%20%7B%7D%2C%22__mpr%22%3A%20%5B%5D%2C%22__mpap%22%3A%20%5B%5D%2C%22%24user_id%22%3A%20%221696fb366da666-05b45b73c1e575-36657105-fa000-1696fb366db7e2%22%7D; __hssc=165832289.42.1552379041795; _chartbeat2=.1552357225125.1552382317031.1.B8gGKsDfweQGDsM3n-BBKPGqB8ZxQ4.40; _oklv=1552382376998%2CdhJeybtiypg1EtEV1y8Lx0Harz6ZJ0AA',\n",
    "        'Host': 'ycharts.com',\n",
    "        'Origin': 'https://ycharts.com',\n",
    "        'Referer': 'https://ycharts.com/login',\n",
    "        'Upgrade-Insecure-Requests': '1',\n",
    "    }\n",
    "    \n",
    "    r = session.post(\"https://ycharts.com/login\", data=payload, headers = headers, verify=False)\n",
    "    \n",
    "    #r.status_code\n",
    "    return session"
   ]
  },
  {
   "cell_type": "code",
   "execution_count": 6,
   "metadata": {},
   "outputs": [],
   "source": [
    "import pandas as pd\n",
    "import re\n",
    "import csv\n",
    "from bs4 import BeautifulSoup"
   ]
  },
  {
   "cell_type": "markdown",
   "metadata": {},
   "source": [
    "## 我們先開啟之前篩選過後的ETF檔案，並準備一個輸出檔案\n",
    "## 並先寫入共三十七個行名稱: 2018/12~2015/12"
   ]
  },
  {
   "cell_type": "code",
   "execution_count": 7,
   "metadata": {},
   "outputs": [],
   "source": [
    "filename = \"ETF List Filtered.csv\"\n",
    "inputfile = open(filename, \"r\")\n",
    "name = \"output.csv\"\n",
    "output = open(name, \"w+\", newline='')\n",
    "writer=csv.writer(output)\n",
    "#write first line(2018/12~2015/12)\n",
    "time_list=['']\n",
    "for i in range(2018,2015,-1):\n",
    "    for j in range(12,0,-1):\n",
    "        time_list.append(str(i)+'/'+str(j))\n",
    "time_list.append('2015/12')\n",
    "writer.writerow(time_list)\n",
    "\n",
    "a = inputfile.readline()"
   ]
  },
  {
   "cell_type": "markdown",
   "metadata": {},
   "source": [
    "## 接著對每個基金爬去目標網站\n",
    "## 爬取後有16個頁面，每個頁面的表格都需要用BeautifulSoup來存取出資料"
   ]
  },
  {
   "cell_type": "code",
   "execution_count": 8,
   "metadata": {},
   "outputs": [
    {
     "name": "stdout",
     "output_type": "stream",
     "text": [
      "FXA done\n",
      "FXB done\n",
      "FXC done\n",
      "FXCH done\n",
      "FXE done\n",
      "FXY done\n",
      "FXSG done\n",
      "FXS done\n",
      "FXF done\n",
      "DBV done\n",
      "UDN done\n",
      "UUP done\n",
      "URR done\n",
      "DRR done\n",
      "CNY done\n",
      "INR done\n",
      "EUFX done\n",
      "ULE done\n",
      "YCL done\n",
      "CROC done\n",
      "EUO done\n",
      "YCS done\n",
      "USDU done\n",
      "BZF done\n",
      "CYB done\n",
      "CEW done\n",
      "FPE done\n",
      "SPFF done\n",
      "PGF done\n",
      "PGX done\n",
      "IPFF done\n",
      "PFF done\n",
      "PSK done\n",
      "PFXF done\n"
     ]
    }
   ],
   "source": [
    "session = login() #登錄網站，放在最外面，以免太過頻繁的登入造成異常\n",
    "\n",
    "for i in range(34):\n",
    "    a = inputfile.readline()\n",
    "    a = a.split(\",\")\n",
    "  \n",
    "    nav_dict=dict()    #{'2018 Dec.':[31,123.54]} (key是字串，value是list[day,nat])\n",
    "    for j in range(1,17): # 16 pages in total\n",
    "        url = \"https://ycharts.com/companies/\"+a[0]+\"/net_asset_value.json?endDate=12/31/2018&pageNum=\"+str(j)+\"&startDate=12/1/2015\"\n",
    "        reqs = session.get(url) \n",
    "        rj = json.loads(reqs.text)\n",
    "        to_deal = rj[\"data_table_html\"]  \n",
    "        time.sleep(1) #休息一下，以免太過頻繁存取\n",
    "        soup = BeautifulSoup(to_deal, 'lxml')  \n",
    "\n",
    "        #使用BeautifulSoup解析出table\n",
    "        col1 = soup.find_all('td',attrs={\"class\": \"col1\"})  \n",
    "        col2 = soup.find_all('td',attrs={\"class\": \"col2\"})\n",
    "        #print(col1[0].text.split())    #格式是這樣 ['Dec.', '31,', '2018']    一個list\n",
    "        #print(col2[0].text.strip())    #格式是這樣 '123.54' 一個字串並沒有多餘的符號\n",
    "\n",
    "        #將時間以及NAV處理好後照順序存入list裡面\n",
    "        date = [ col1[index].text.split() for index in range(len(col1)) ] \n",
    "        nav = [ col2[index].text.strip() for index in range(len(col2)) ]\n",
    "\n",
    "        #對爬取到的每個時間跑迴圈，找出每個月分最後一個交易日，以此找出該基金的月底淨值\n",
    "        for index in range(len(col1)):\n",
    "            month=date[index][2]+' '+date[index][0]\n",
    "            day=int(re.sub(',', ' ', date[index][1]))\n",
    "            if nav_dict.get(month)==None:\n",
    "                nav_dict[month]=[day,nav[index]]\n",
    "            elif day>nav_dict[month][0]:\n",
    "                nav_dict[month]=[day,nav[index]]\n",
    "                \n",
    "    #對第i個基金寫入該基金的名稱以及37個月的月底基金淨值\n",
    "    nav_list=[a[0]] \n",
    "    for item in list(nav_dict.values()):\n",
    "        nav_list.append(item[1])\n",
    "    writer.writerow(nav_list)\n",
    "    print(a[0],'done')        "
   ]
  },
  {
   "cell_type": "code",
   "execution_count": 9,
   "metadata": {},
   "outputs": [],
   "source": [
    "# 關閉檔案\n",
    "inputfile.close()\n",
    "output.close()"
   ]
  },
  {
   "cell_type": "markdown",
   "metadata": {},
   "source": [
    "## 用pandas 輸出結果"
   ]
  },
  {
   "cell_type": "code",
   "execution_count": 5,
   "metadata": {},
   "outputs": [
    {
     "name": "stdout",
     "output_type": "stream",
     "text": [
      "   Unnamed: 0  2018/12  2018/11  2018/10  2018/9  2018/8  2018/7  2018/6  \\\n",
      "0         FXA    70.45    73.18    70.94   72.43   72.39   74.42   73.97   \n",
      "1         FXB   123.54   123.95   123.95  126.51  126.10  127.27  128.13   \n",
      "2         FXC    72.26    74.32    75.16   76.35   75.69   75.80   75.02   \n",
      "3        FXCH    71.22    70.55    70.19   71.22   71.69   71.89   73.94   \n",
      "4         FXE   109.25   108.90   108.43  111.23  111.49  112.20  112.04   \n",
      "5         FXY    87.03    84.31    84.68   84.17   86.25   85.48   86.42   \n",
      "6        FXSG    72.19    71.75    71.05   71.97   71.80   72.25   72.11   \n",
      "7         FXS   105.60   103.44   102.72  105.72  103.03  107.30  105.54   \n",
      "8         FXF    94.60    93.73    92.89   95.75   96.80   94.66   93.75   \n",
      "9         DBV    23.52    24.63    24.47   24.03   24.08   24.30   24.30   \n",
      "10        UDN    20.98    21.02    21.06   21.52   21.52   21.68   21.65   \n",
      "11        UUP    25.48    25.98    25.86   25.26   25.22   24.97   24.97   \n",
      "12        URR    16.88    16.50    16.59   17.58   17.64   18.02   18.04   \n",
      "13        DRR    57.50    58.67    58.28   55.00   54.80   53.74   53.64   \n",
      "14        CNY    43.85    43.06    42.74   43.30   43.47   43.57   46.05   \n",
      "15        INR    41.47    41.18    38.38   38.91   39.73   40.90   41.28   \n",
      "16       EUFX    43.12    43.44    43.28   42.10   42.02   41.61   41.56   \n",
      "17        ULE    15.06    14.81    14.89   15.71   15.76   16.07   16.09   \n",
      "18        YCL    57.54    54.00    54.84   54.31   57.02   56.54   57.88   \n",
      "19       CROC    55.36    51.39    54.84   52.63   53.30   49.98   50.45   \n",
      "20        EUO    24.31    24.72    24.59   23.30   23.23   22.81   22.78   \n",
      "21        YCS    73.89    78.74    77.46   78.22   74.53   75.18   73.48   \n",
      "22       USDU    27.07    27.50    27.47   26.80   26.73   26.50   26.59   \n",
      "23        BZF    16.21    16.37    16.99   15.75   15.19   16.59   16.14   \n",
      "24        CYB    25.34    25.31    25.12   25.38   25.49   25.50   26.18   \n",
      "25        CEW    18.12    18.46    18.03   18.29   17.97   18.79   18.64   \n",
      "26        FPE    17.98    18.32    18.76   19.09   19.25   19.21   19.04   \n",
      "27       SPFF    11.06    11.27    11.49   11.88   12.06   11.96   11.95   \n",
      "28        PGF    17.38    17.50    17.87   18.18   18.47   18.37   18.43   \n",
      "29        PGX    13.49    13.63    14.02   14.33   14.60   14.49   14.53   \n",
      "30       IPFF    15.18    15.92    16.96   17.78   17.78   17.83   17.60   \n",
      "31        PFF    34.26    35.21    36.16   37.13   37.84   37.61   37.64   \n",
      "32        PSK    39.55    40.30    41.58   42.55   43.45   43.18   43.29   \n",
      "33       PFXF    17.70    18.33    18.74   19.36   19.77   19.52   19.52   \n",
      "\n",
      "    2018/5  2018/4  ...  2016/9  2016/8  2016/7  2016/6  2016/5  2016/4  \\\n",
      "0    75.72   75.55  ...   76.56   75.20   76.07   74.52   72.51   76.39   \n",
      "1   129.17  133.74  ...  126.88  127.97  129.77  130.69  142.33  143.29   \n",
      "2    76.07   76.97  ...   75.27   75.43   75.91   76.25   75.73   79.10   \n",
      "3    76.52   77.59  ...   73.82   73.62   74.26   73.96   74.88   76.04   \n",
      "4   112.09  116.10  ...  109.38  108.47  108.99  108.35  108.65  111.86   \n",
      "5    88.15   87.56  ...   95.36   93.40   94.31   94.25   87.22   90.45   \n",
      "6    73.53   74.26  ...   72.34   72.39   73.48   73.35   71.73   73.50   \n",
      "7   107.05  108.29  ...  113.46  113.51  114.24  115.22  117.03  122.02   \n",
      "8    95.51   94.95  ...   98.75   97.53   99.25   98.56   96.67  100.36   \n",
      "9    24.49   24.16  ...   24.96   24.54   24.32   24.13   23.40   23.52   \n",
      "10   21.81   22.38  ...   22.08   21.96   22.09   21.93   22.03   22.68   \n",
      "11   24.75   24.12  ...   24.67   24.82   24.70   24.89   24.83   24.11   \n",
      "12   18.16   19.57  ...   17.85   17.63   17.77   17.53   17.71   18.90   \n",
      "13   53.32   49.60  ...   55.83   56.56   56.27   57.09   56.88   53.54   \n",
      "14   46.04   46.61  ...   41.82   41.61   41.88   41.74   42.08   42.67   \n",
      "15   41.12   41.52  ...   38.65   38.28   38.22   37.57   37.49   37.77   \n",
      "16   41.43   40.02  ...   42.23   42.53   42.42   42.75   42.67   41.46   \n",
      "17   16.20   17.36  ...   16.13   15.95   16.08   15.89   16.04   17.03   \n",
      "18   60.23   59.89  ...   74.45   71.80   74.09   72.67   63.56   69.02   \n",
      "19   48.38   48.92  ...   49.78   51.93   51.01   53.25   57.23   52.08   \n",
      "20   22.66   21.18  ...   23.78   24.09   23.97   24.32   24.25   22.90   \n",
      "21   70.65   71.14  ...   60.67   63.23   61.58   63.53   73.52   67.98   \n",
      "22   26.29   25.72  ...   26.25   26.34   26.18   26.26   26.63   25.72   \n",
      "23   16.62   17.67  ...   16.82   16.75   16.59   16.61   14.66   15.13   \n",
      "24   26.96   27.27  ...   24.48   24.42   24.50   24.48   24.69   25.06   \n",
      "25   19.02   19.52  ...   18.19   17.97   17.94   17.93   17.34   18.01   \n",
      "26   19.15   19.40  ...   19.49   19.63   19.48   19.07   19.03   18.83   \n",
      "27   11.85   11.83  ...   13.43   13.66   13.75   13.57   13.54   13.51   \n",
      "28   18.36   18.32  ...   19.02   19.37   19.33   19.16   18.99   18.80   \n",
      "29   14.45   14.36  ...   15.12   15.35   15.32   15.21   15.09   14.94   \n",
      "30   17.90   18.07  ...   16.24   16.42   16.28   15.71   16.33   16.99   \n",
      "31   37.27   37.13  ...   39.45   40.06   40.16   39.82   39.54   39.10   \n",
      "32   43.08   42.73  ...   45.34   46.37   46.28   45.98   45.98   45.26   \n",
      "33   19.21   19.09  ...   20.63   20.83   20.97   20.83   20.47   20.34   \n",
      "\n",
      "    2016/3  2016/2  2016/1  2015/12  \n",
      "0    77.01   71.49   70.81    72.84  \n",
      "1   140.62  136.38  138.85   144.31  \n",
      "2    76.63   73.20   70.48    71.42  \n",
      "3    76.39   75.32   74.84    75.16  \n",
      "4   111.36  106.25  105.87   106.34  \n",
      "5    86.13   85.79   80.02    80.55  \n",
      "6    73.38   70.28   69.47    69.72  \n",
      "7   120.88  114.21  114.50   116.56  \n",
      "8   100.55   96.77   94.16    96.47  \n",
      "9    23.45   23.12   23.15    23.29  \n",
      "10   22.34   21.52   21.21    21.42  \n",
      "11   24.52   25.48   25.87    25.65  \n",
      "12   18.69   17.01   16.91    17.06  \n",
      "13   54.26   59.58   60.30    59.93  \n",
      "14   41.44   41.90   41.37    41.66  \n",
      "15   36.72   36.28   36.32    37.16  \n",
      "16   41.73   43.66   43.89    43.78  \n",
      "17   16.86   15.45   15.37    15.51  \n",
      "18   61.95   61.91   53.85    54.75  \n",
      "19   51.62   60.11   61.54    58.54  \n",
      "20   23.19   25.41   25.67    25.54  \n",
      "21   76.51   76.84   88.99    87.95  \n",
      "22   26.23   27.31   27.81    27.39  \n",
      "23   14.66   12.95   12.70    12.77  \n",
      "24   25.05   24.63   24.31    24.35  \n",
      "25   17.79   16.70   16.59    16.76  \n",
      "26   18.67   18.35   18.69    18.89  \n",
      "27   13.26   12.85   12.99    13.19  \n",
      "28   18.76   18.45   18.63    18.82  \n",
      "29   14.89   14.67   14.80    14.91  \n",
      "30   15.97   14.16   14.41    16.26  \n",
      "31   38.93   38.20   38.49    38.88  \n",
      "32   44.93   44.58   44.56    44.61  \n",
      "33   20.09   19.33   19.22    19.27  \n",
      "\n",
      "[34 rows x 38 columns]\n"
     ]
    }
   ],
   "source": [
    "import pandas as pd\n",
    "df  = pd.read_csv('output.csv')\n",
    "print(df)"
   ]
  }
 ],
 "metadata": {
  "kernelspec": {
   "display_name": "Python 3",
   "language": "python",
   "name": "python3"
  },
  "language_info": {
   "codemirror_mode": {
    "name": "ipython",
    "version": 3
   },
   "file_extension": ".py",
   "mimetype": "text/x-python",
   "name": "python",
   "nbconvert_exporter": "python",
   "pygments_lexer": "ipython3",
   "version": "3.6.8"
  }
 },
 "nbformat": 4,
 "nbformat_minor": 2
}
