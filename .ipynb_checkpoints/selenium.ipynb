{
 "cells": [
  {
   "cell_type": "markdown",
   "metadata": {},
   "source": [
    "# selenium"
   ]
  },
  {
   "cell_type": "markdown",
   "metadata": {},
   "source": [
    "## 導入selenium"
   ]
  },
  {
   "cell_type": "code",
   "execution_count": 1,
   "metadata": {},
   "outputs": [],
   "source": [
    "from selenium import webdriver\n",
    "from selenium.webdriver.chrome.options import Options\n",
    "from bs4 import BeautifulSoup as bs\n",
    "import requests\n",
    "from selenium.webdriver.common.by import By\n",
    "from selenium.webdriver.support.ui import WebDriverWait\n",
    "from selenium.webdriver.support import expected_conditions as EC    "
   ]
  },
  {
   "cell_type": "markdown",
   "metadata": {},
   "source": [
    "## 設定driver"
   ]
  },
  {
   "cell_type": "code",
   "execution_count": 2,
   "metadata": {},
   "outputs": [],
   "source": [
    "driver = webdriver.Chrome()\n",
    "wait = WebDriverWait(driver, 10)\n"
   ]
  },
  {
   "cell_type": "markdown",
   "metadata": {},
   "source": [
    "## 定義抓取首頁的函數"
   ]
  },
  {
   "cell_type": "code",
   "execution_count": 3,
   "metadata": {},
   "outputs": [],
   "source": [
    "def get_home_page(symbol):\n",
    "    url = \"https://www.etf.com/\" + symbol\n",
    "    r = requests.get(url)\n",
    "    r.encoding = 'utf-8'\n",
    "    soup = bs(r.text, 'lxml')\t#'lxml'解析器\t優點速度快\n",
    "    pattern = soup.find('div',attrs={\"class\": \"field-content helplink\"}) #首頁鏈結放在該標籤之下\n",
    "    url2 = pattern.a['href']\n",
    "    return url2"
   ]
  },
  {
   "cell_type": "code",
   "execution_count": 4,
   "metadata": {},
   "outputs": [
    {
     "data": {
      "text/plain": [
       "'https://www.invesco.com/portal/site/us/financial-professional/etfs/product-detail?productId=FXY&ticker=FXY&title=powershares-currencyshares-japanese-yen-trust'"
      ]
     },
     "execution_count": 4,
     "metadata": {},
     "output_type": "execute_result"
    }
   ],
   "source": [
    "get_home_page('FXY')"
   ]
  },
  {
   "cell_type": "markdown",
   "metadata": {},
   "source": [
    "## 接著需要知道每個基金公司把NAV淨值放在何處，以便我們用Selenium來點取下載鏈接\n",
    "## 這部份靠人工去尋找，接下來只需要利用Katalon Recoder 來生成python 指令即可\n",
    "## 先產生csv file reader"
   ]
  },
  {
   "cell_type": "code",
   "execution_count": 5,
   "metadata": {},
   "outputs": [],
   "source": [
    "import csv\n",
    "path = 'ETF List Filtered.csv'\n",
    "in_file =  open( path , 'r')\n",
    "csv_reader = csv.DictReader(in_file)"
   ]
  },
  {
   "cell_type": "markdown",
   "metadata": {},
   "source": [
    "## 如果有些下載鍵結可以用pandas直接打開，或者用requests下載，那就省去一個步驟"
   ]
  },
  {
   "cell_type": "code",
   "execution_count": 6,
   "metadata": {},
   "outputs": [
    {
     "name": "stdout",
     "output_type": "stream",
     "text": [
      "Symbol FXA is done.\n",
      "Symbol FXB is done.\n",
      "Symbol FXC is done.\n",
      "Symbol FXCH is done.\n",
      "Symbol FXE is done.\n",
      "Symbol FXY is done.\n",
      "Symbol FXSG is done.\n",
      "Symbol FXS is done.\n",
      "Symbol FXF is done.\n",
      "Symbol DBV is done.\n",
      "Symbol UDN is done.\n",
      "Symbol UUP is done.\n",
      "Symbol URR is done.\n",
      "Symbol DRR is done.\n",
      "Symbol CNY is done.\n",
      "Symbol INR is done.\n",
      "Symbol EUFX is done.\n",
      "Symbol ULE is done.\n",
      "Symbol YCL is done.\n",
      "Symbol CROC is done.\n",
      "Symbol EUO is done.\n",
      "Symbol YCS is done.\n",
      "Symbol USDU is done.\n",
      "Symbol BZF is done.\n",
      "Symbol CYB is done.\n",
      "Symbol CEW is done.\n",
      "Symbol FPE is done.\n",
      "Symbol SPFF is done.\n",
      "Symbol PGF is done.\n",
      "Symbol PGX is done.\n",
      "Symbol IPFF is done.\n",
      "Symbol PFF is done.\n",
      "Symbol PSK is done.\n",
      "Symbol PFXF is done.\n"
     ]
    }
   ],
   "source": [
    "import pandas as pd\n",
    "import time\n",
    "for a_row in csv_reader:\n",
    "    symbol = a_row['Symbol']\n",
    "    etf_name = a_row['ETF Name']\n",
    "    company_name = etf_name.split()[0]\n",
    "    if company_name == 'Invesco':  #如果基金公司是Invesco，那下載鏈結為id = downloadNavHistory\n",
    "        url = get_home_page(symbol)\n",
    "        driver.get(url)\n",
    "        driver.find_element_by_id(\"downloadNavHistory\").click()\n",
    "    elif company_name == 'Market': ##如果基金公司是Market Vectors，可直接用網址加代號取得檔案\n",
    "        driver.get('https://www.marketvectorsetns.com/HistoPriceExport.aspx?ticker=' + symbol)\n",
    "        \n",
    "    elif company_name == 'ProShares': ##如果基金公司是ProShares，可直接用網址加代號取得CSV檔案  \n",
    "        url = 'https://accounts.profunds.com/etfdata/ByFund/' + symbol +'-historical_nav.csv'\n",
    "        df = pd.read_csv(url)\n",
    "        df.to_csv( 'C:\\\\Users\\\\User\\\\Downloads\\\\%s.csv' %symbol)\n",
    "        \n",
    "    elif company_name == 'WisdomTree': ##如果基金公司是WisdomTree，得先進去一個網址後用beautifulsoup以及pandas來處理網站表格\n",
    "        homepage = 'https://www.wisdomtree.com/etfs/currency/'+ symbol.lower()\n",
    "        r = requests.get(homepage)\n",
    "        r.encoding = 'utf-8'\n",
    "        soup = bs(r.text, 'lxml')\n",
    "        pattern = soup.find('ul',attrs={\"class\": \"footer-links\"}) \n",
    "        table_html = pattern.a['data-href']\n",
    "\n",
    "        r = requests.get(table_html)\n",
    "        html_df = pd.read_html(r.text)\n",
    "        html_df[0].to_csv( 'C:\\\\Users\\\\User\\\\Downloads\\\\%s.csv' %symbol)\n",
    "    elif company_name == 'SPDR': ##如果基金公司是SPDR，得先進去一個網址後用beautifulsoup以及pandas來處理網站表格\n",
    "        driver.get('https://us.spdrs.com/site-content/xls/PSK_HistoricalNav.xls?fund=' + symbol)\n",
    "        \n",
    "    else:#其他基金公司 必須從yahoo來爬取\n",
    "        url = 'https://finance.yahoo.com/quote/' + symbol + \"/history?period1=1448899200&period2=1546272000&interval=1d&filter=history&frequency=1d\"\n",
    "        driver.get(url)\n",
    "        time.sleep(2)\n",
    "        wait.until(EC.presence_of_element_located((By.XPATH, \"(.//*[normalize-space(text()) and normalize-space(.)='Currency in USD'])[1]/following::span[2]\")))\n",
    "        driver.find_element_by_xpath(\"(.//*[normalize-space(text()) and normalize-space(.)='Currency in USD'])[1]/following::span[2]\").click()\n",
    "    print('Symbol %s is done.' %symbol)"
   ]
  },
  {
   "cell_type": "code",
   "execution_count": null,
   "metadata": {},
   "outputs": [],
   "source": []
  }
 ],
 "metadata": {
  "kernelspec": {
   "display_name": "Python 3",
   "language": "python",
   "name": "python3"
  },
  "language_info": {
   "codemirror_mode": {
    "name": "ipython",
    "version": 3
   },
   "file_extension": ".py",
   "mimetype": "text/x-python",
   "name": "python",
   "nbconvert_exporter": "python",
   "pygments_lexer": "ipython3",
   "version": "3.7.0"
  }
 },
 "nbformat": 4,
 "nbformat_minor": 2
}
